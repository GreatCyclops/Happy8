{
 "cells": [
  {
   "cell_type": "code",
   "execution_count": 1,
   "metadata": {},
   "outputs": [],
   "source": [
    "import numpy as np  \n",
    "import matplotlib.mlab as mlab  \n",
    "import matplotlib.pyplot as plt "
   ]
  },
  {
   "cell_type": "markdown",
   "metadata": {},
   "source": [
    "## data为近95期的快乐8中奖数据。\n",
    "快乐8开奖查询：https://www.zhcw.com/kjxx/kl8/\n",
    "快乐8游戏规则：https://www.zhcw.com/c/2020-09-22/618869.shtml\n",
    "若福彩中心真的为随机抽奖，则每期从1-80抽的20个数字被抽中的概率应一样均为20/80=0.25，则这95期共95*20=1900条数据，各个数字的数据应在95*0.25=23.75左右，"
   ]
  },
  {
   "cell_type": "code",
   "execution_count": 3,
   "metadata": {},
   "outputs": [],
   "source": [
    "data_line = len(open(r\"data1.txt\",\"r\",encoding='utf-8').readlines())#获取数据行数\n",
    "data_np=np.zeros((data_line,20))"
   ]
  },
  {
   "cell_type": "code",
   "execution_count": 4,
   "metadata": {},
   "outputs": [
    {
     "data": {
      "text/plain": [
       "4"
      ]
     },
     "execution_count": 4,
     "metadata": {},
     "output_type": "execute_result"
    }
   ],
   "source": [
    "data_line"
   ]
  },
  {
   "cell_type": "code",
   "execution_count": 5,
   "metadata": {},
   "outputs": [
    {
     "name": "stdout",
     "output_type": "stream",
     "text": [
      "[[10. 12. 13. ... 70. 77. 80.]\n",
      " [ 2.  7.  9. ... 69. 77. 79.]\n",
      " [ 6. 13. 17. ... 68. 73. 80.]\n",
      " ...\n",
      " [ 4.  8. 14. ... 75. 77. 80.]\n",
      " [ 2.  5. 10. ... 67. 78. 79.]\n",
      " [ 6.  8. 15. ... 77. 78. 80.]]\n"
     ]
    }
   ],
   "source": [
    "data_line = len(open(r\"data.txt\",\"r\",encoding='utf-8').readlines())#获取数据行数\n",
    "data_np=np.zeros((data_line,20))\n",
    "i=0\n",
    "k=0\n",
    "with open(\"data.txt\", \"r\",encoding='utf-8') as f:\n",
    "    for line in f.readlines():\n",
    "        k=0\n",
    "        for j in range(22,62,2):\n",
    "            data_np[i][k]=10*int(line[j])+int(line[j+1])\n",
    "            k=k+1\n",
    "        i=i+1\n",
    "print(data_np)"
   ]
  },
  {
   "cell_type": "code",
   "execution_count": 6,
   "metadata": {},
   "outputs": [],
   "source": [
    "#统计这些数真的是随机分布吗\n",
    "m=np.zeros(81)\n",
    "for i in range(data_line):\n",
    "    for j in range(20):\n",
    "        m[int(data_np[i][j])]+=1"
   ]
  },
  {
   "cell_type": "code",
   "execution_count": 7,
   "metadata": {},
   "outputs": [
    {
     "name": "stdout",
     "output_type": "stream",
     "text": [
      "[ 0. 14. 29. 23. 27. 22. 22. 27. 24. 23. 31. 29. 28. 35. 23. 26. 32. 21.\n",
      " 23. 34. 17. 18. 19. 26. 22. 22. 19. 24. 25. 19. 35. 11. 28. 24. 28. 26.\n",
      " 19. 27. 21. 24. 27. 27. 25. 24. 21. 20. 21. 18. 32. 26. 23. 33. 21. 25.\n",
      " 26. 17. 21. 25. 20. 22. 24. 29. 24. 26. 18. 22. 18. 18. 21. 17. 33. 20.\n",
      " 26. 20. 16. 27. 26. 25. 19. 20. 30.]\n"
     ]
    }
   ],
   "source": [
    "print(m)"
   ]
  },
  {
   "cell_type": "code",
   "execution_count": 8,
   "metadata": {},
   "outputs": [
    {
     "data": {
      "image/png": "[encoded data removed]",
      "text/plain": [
       "<Figure size 432x288 with 1 Axes>"
      ]
     },
     "metadata": {
      "needs_background": "light"
     },
     "output_type": "display_data"
    }
   ],
   "source": [
    "X=range(81)\n",
    "Y=m \n",
    "fig = plt.figure()\n",
    "plt.bar(X,Y,0.4,color=\"green\")\n",
    "plt.xlabel(\"X-axis\")\n",
    "plt.ylabel(\"Y-axis\")\n",
    "plt.title(\"bar chart\")\n",
    "plt.show() "
   ]
  },
  {
   "cell_type": "code",
   "execution_count": 9,
   "metadata": {},
   "outputs": [
    {
     "name": "stdout",
     "output_type": "stream",
     "text": [
      "23.75\n"
     ]
    }
   ],
   "source": [
    "m_sum=0\n",
    "for i in range(81):\n",
    "    m_sum+=m[i]\n",
    "print(m_sum/80)"
   ]
  },
  {
   "cell_type": "markdown",
   "metadata": {},
   "source": [
    "## 结论：上述数据证明了从均值和图像两个维度来看快乐8玩法是符合随机特征的。\n",
    "接下来我们要根据以往数据来预测下一次最可能出的数字。主要思路如下：越新抽中的数字，再次出现的可能性越低。那么我们采用对不同期数赋予不同的权值，对这80个数字进行分配不同的权重，越新出现的数字我们赋予较低的权重，最后这80个数字，权重最高的数字说明我们预测出现的可能性越高。\n",
    "那么权重我们到底如何分配呢？我们先用最朴素的想法：比如共95期，那么最老的那一期抽中的数字我们赋值为95，最新刚抽中一期的数字我们赋权重值为1。代码如下"
   ]
  },
  {
   "cell_type": "code",
   "execution_count": 12,
   "metadata": {},
   "outputs": [],
   "source": [
    "weight=np.zeros(81)\n",
    "for i in range(data_line):\n",
    "    for j in range(20):\n",
    "        weight[int(data_np[i][j])]+=i+1"
   ]
  },
  {
   "cell_type": "code",
   "execution_count": 13,
   "metadata": {},
   "outputs": [
    {
     "name": "stdout",
     "output_type": "stream",
     "text": [
      "[   0.  607. 1381. 1173. 1278. 1063.  995. 1193. 1313. 1044. 1558. 1493.\n",
      " 1212. 1593.  911. 1190. 1511.  805. 1158. 1652.  744.  887.  926. 1205.\n",
      "  999.  839.  958. 1025. 1047.  872. 1775.  532. 1591.  974. 1169. 1227.\n",
      "  972. 1211. 1121. 1266. 1307. 1165. 1286. 1180. 1043.  823. 1034.  915.\n",
      " 1574. 1369. 1117. 1648.  909. 1279. 1227.  886. 1024. 1390. 1143.  911.\n",
      "  892. 1482.  947. 1229. 1076.  978.  914.  754.  934.  706. 1569. 1051.\n",
      " 1366.  924.  765. 1491. 1293. 1213. 1147. 1123. 1646.]\n"
     ]
    }
   ],
   "source": [
    "print(weight)"
   ]
  },
  {
   "cell_type": "code",
   "execution_count": 15,
   "metadata": {},
   "outputs": [
    {
     "name": "stdout",
     "output_type": "stream",
     "text": [
      "[ 0 31  1 69 20 67 74 17 45 25 29 55 21 60 52 59 14 66 47 73 22 68 62 26\n",
      " 36 33 65  6 24 56 27 46 44  9 28 71  5 64 50 38 79 58 78 18 41 34  3 43\n",
      " 15  7 23 37 12 77 54 35 63 39  4 53 42 76 40  8 72 49  2 57 61 75 11 16\n",
      " 10 70 48 32 13 80 51 19 30]\n"
     ]
    }
   ],
   "source": [
    "#按照权重从小到大排序\n",
    "weight_sort=np.argsort(weight)\n",
    "print(weight_sort)"
   ]
  },
  {
   "cell_type": "code",
   "execution_count": 17,
   "metadata": {},
   "outputs": [
    {
     "name": "stdout",
     "output_type": "stream",
     "text": [
      "[13 80 51 19 30]\n"
     ]
    }
   ],
   "source": [
    "#输出权重最大的前五个\n",
    "print(weight_sort[-5:])"
   ]
  },
  {
   "cell_type": "markdown",
   "metadata": {},
   "source": [
    "# 下面应该试着从中彩网爬取快乐8数据"
   ]
  },
  {
   "cell_type": "code",
   "execution_count": 18,
   "metadata": {},
   "outputs": [],
   "source": [
    "import requests"
   ]
  },
  {
   "cell_type": "code",
   "execution_count": null,
   "metadata": {},
   "outputs": [],
   "source": [
    "# 本部分先略过"
   ]
  }
 ],
 "metadata": {
  "kernelspec": {
   "display_name": "Python [conda env:pytorch]",
   "language": "python",
   "name": "conda-env-pytorch-py"
  },
  "language_info": {
   "codemirror_mode": {
    "name": "ipython",
    "version": 3
   },
   "file_extension": ".py",
   "mimetype": "text/x-python",
   "name": "python",
   "nbconvert_exporter": "python",
   "pygments_lexer": "ipython3",
   "version": "3.8.5"
  }
 },
 "nbformat": 4,
 "nbformat_minor": 4
}
