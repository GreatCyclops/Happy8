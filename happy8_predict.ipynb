{
 "cells": [
  {
   "cell_type": "code",
   "execution_count": 1,
   "metadata": {},
   "outputs": [
    {
     "name": "stdout",
     "output_type": "stream",
     "text": [
      "[13 80 51 19 30]\n"
     ]
    }
   ],
   "source": [
    "import numpy as np\n",
    "data_line = len(open(r\"data.txt\",\"r\",encoding='utf-8').readlines())#获取数据行数\n",
    "data_np=np.zeros((data_line,20))\n",
    "i=0\n",
    "k=0\n",
    "with open(\"data.txt\", \"r\",encoding='utf-8') as f:\n",
    "    for line in f.readlines():\n",
    "        k=0\n",
    "        for j in range(22,62,2):\n",
    "            data_np[i][k]=10*int(line[j])+int(line[j+1])\n",
    "            k=k+1\n",
    "        i=i+1\n",
    "\n",
    "weight=np.zeros(81)\n",
    "for i in range(data_line):\n",
    "    for j in range(20):\n",
    "        weight[int(data_np[i][j])]+=i+1\n",
    "#按照权重从小到大排序\n",
    "weight_sort=np.argsort(weight)\n",
    "print(weight_sort[-5:])"
   ]
  }
 ],
 "metadata": {
  "kernelspec": {
   "display_name": "Python [conda env:pytorch]",
   "language": "python",
   "name": "conda-env-pytorch-py"
  },
  "language_info": {
   "codemirror_mode": {
    "name": "ipython",
    "version": 3
   },
   "file_extension": ".py",
   "mimetype": "text/x-python",
   "name": "python",
   "nbconvert_exporter": "python",
   "pygments_lexer": "ipython3",
   "version": "3.8.5"
  }
 },
 "nbformat": 4,
 "nbformat_minor": 4
}
